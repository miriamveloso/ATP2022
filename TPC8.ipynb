{
 "cells": [
  {
   "cell_type": "markdown",
   "metadata": {},
   "source": [
    "### 1.a)"
   ]
  },
  {
   "cell_type": "code",
   "execution_count": null,
   "metadata": {},
   "outputs": [],
   "source": [
    "def inicDiferente(s1, s2):\n",
    "    res = 0\n",
    "    s1 = s1.lower()\n",
    "    s2 = s2.lower()\n",
    "    for letra in s1:\n",
    "        if letra not in s2:\n",
    "            res += 1\n",
    "    return res"
   ]
  },
  {
   "cell_type": "markdown",
   "metadata": {},
   "source": [
    "### 1.b)"
   ]
  },
  {
   "cell_type": "code",
   "execution_count": null,
   "metadata": {},
   "outputs": [],
   "source": [
    "def acimaMedia(n):\n",
    "    res = 0\n",
    "    lista = []\n",
    "    soma = 0\n",
    "    for num in range(n):\n",
    "        x = int(input(\"Insira o \"+ str(num+1) +\" número.\"))\n",
    "        lista.append(x)\n",
    "        soma += x\n",
    "    media = soma/n\n",
    "    for num in lista:\n",
    "        if num > media:\n",
    "            res += 1\n",
    "    return res"
   ]
  },
  {
   "cell_type": "markdown",
   "metadata": {},
   "source": [
    "### 1.c)"
   ]
  },
  {
   "cell_type": "code",
   "execution_count": null,
   "metadata": {},
   "outputs": [],
   "source": [
    "def merge(l1, l2):\n",
    "    res = l1\n",
    "    for num in l2:\n",
    "        if num not in res:\n",
    "            res.append(num)\n",
    "\n",
    "    for i in range(len(res)):\n",
    "        for j in range(i + 1, len(res)):\n",
    "            if res[i] > res[j]:\n",
    "                res[i], res[j] = res[j], res[i]\n",
    "    return res"
   ]
  },
  {
   "cell_type": "markdown",
   "metadata": {},
   "source": [
    "### 1. d)"
   ]
  },
  {
   "cell_type": "code",
   "execution_count": null,
   "metadata": {},
   "outputs": [],
   "source": [
    "def figuais(f1, f2):\n",
    "    file1 = open(f1)\n",
    "    file2 = open(f2)\n",
    "    for line in file1:\n",
    "        if line in file2:\n",
    "            res = True\n",
    "        else:\n",
    "            res = False\n",
    "    file1.close()\n",
    "    file2.close()\n",
    "    return res"
   ]
  },
  {
   "cell_type": "markdown",
   "metadata": {},
   "source": [
    "### 2.a)"
   ]
  },
  {
   "cell_type": "code",
   "execution_count": null,
   "metadata": {},
   "outputs": [],
   "source": [
    "def figuais(f1, f2):\n",
    "    file1 = open(f1)\n",
    "    file2 = open(f2)\n",
    "    for line in file1:\n",
    "        if line in file2:\n",
    "            res = True\n",
    "        else:\n",
    "            res = False\n",
    "    file1.close()\n",
    "    file2.close()\n",
    "    return res"
   ]
  },
  {
   "cell_type": "markdown",
   "metadata": {},
   "source": [
    "### 2.b)"
   ]
  },
  {
   "cell_type": "code",
   "execution_count": null,
   "metadata": {},
   "outputs": [],
   "source": [
    "def listarPorGenero(cinemateca, genero):\n",
    "    res=[]\n",
    "    for filme in cinemateca:\n",
    "        title, year, elenco, genres = filme\n",
    "        for genre in genres:\n",
    "            if genero == genre:\n",
    "                res.append(title)\n",
    "    res.sort()\n",
    "    return res"
   ]
  },
  {
   "cell_type": "markdown",
   "metadata": {},
   "source": [
    "### 2.c)"
   ]
  },
  {
   "cell_type": "code",
   "execution_count": null,
   "metadata": {},
   "outputs": [],
   "source": [
    "def maiorElenco(cinemateca):\n",
    "    elencoTamanho = 0\n",
    "    for filme in cinemateca:\n",
    "        title, year, elenco, genres = filme\n",
    "        if len(elenco) > elencoTamanho:\n",
    "            maiorElenco = title\n",
    "            elencoTamanho = len(elenco)\n",
    "    return maiorElenco"
   ]
  },
  {
   "cell_type": "markdown",
   "metadata": {},
   "source": [
    "### 2.d)"
   ]
  },
  {
   "cell_type": "code",
   "execution_count": null,
   "metadata": {},
   "outputs": [],
   "source": [
    "def filmePorGenero( cinemateca ):\n",
    "    genresTotal = [] \n",
    "    for filme in cinemateca:\n",
    "        title, year, elenco, genres = filme\n",
    "        for genre in genres:\n",
    "            if genre not in genresTotal:\n",
    "                genresTotal.append(genre)\n",
    "    distrib = {}.fromkeys(genresTotal, 0)\n",
    "    \n",
    "    for filme in cinemateca:\n",
    "        title, year, elenco, genres = filme\n",
    "        for genre in genres:\n",
    "            if genre in distrib.keys():\n",
    "                distrib[genre] += 1\n",
    "            else:\n",
    "                distrib[genre] = 1    \n",
    "    return distrib"
   ]
  },
  {
   "cell_type": "markdown",
   "metadata": {},
   "source": [
    "### 2.e)"
   ]
  },
  {
   "cell_type": "code",
   "execution_count": null,
   "metadata": {},
   "outputs": [],
   "source": [
    "import matplotlib.pyplot as plt\n",
    "\n",
    "def graph(distrib):\n",
    "    fig1 = plt.figure(figsize = (10, 5))\n",
    "    plt.bar(distrib.keys(), distrib.values(), color= \"purple\", width= 0.3)\n",
    "    plt.xticks([x for x in range(0, len(distrib.keys()))], distrib.keys())\n",
    "    plt.title(\"Gráfico da distribuição\")\n",
    "    plt.ylabel(\"Num de Filmes\")\n",
    "    plt.show()\n",
    "    return"
   ]
  }
 ],
 "metadata": {
  "kernelspec": {
   "display_name": "Python 3.10.7 64-bit",
   "language": "python",
   "name": "python3"
  },
  "language_info": {
   "name": "python",
   "version": "3.10.7"
  },
  "orig_nbformat": 4,
  "vscode": {
   "interpreter": {
    "hash": "2469a70536e4d2335a2ea8907942d0699c37342a371ac185bdb5b0aa6f073890"
   }
  }
 },
 "nbformat": 4,
 "nbformat_minor": 2
}
