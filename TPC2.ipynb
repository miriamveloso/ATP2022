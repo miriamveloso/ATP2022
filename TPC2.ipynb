{
 "cells": [
  {
   "cell_type": "code",
   "execution_count": 7,
   "metadata": {},
   "outputs": [
    {
     "name": "stdout",
     "output_type": "stream",
     "text": [
      "11 tentativas.\n"
     ]
    }
   ],
   "source": [
    "import random\n",
    "modalidade = input(\"Para começar o jogo Adivinha O Número, escolhe quem irá adivinhar: computador/ jogador\")\n",
    "\n",
    "if modalidade==\"computador\":\n",
    "    lower=0\n",
    "    upper=100\n",
    "    guess=random.randint(lower,upper)\n",
    "\n",
    "    ans=input(\"O seu número é {}? sim/maior/menor\".format(guess))\n",
    "    N=1\n",
    "\n",
    "    while ans==\"maior\" or ans==\"menor\":\n",
    "        if ans==\"maior\":\n",
    "            lower=guess\n",
    "            guess=random.randrange(lower+1,upper)\n",
    "            ans=input(\"O seu número é {}? sim/maior/menor\".format(guess))\n",
    "            N=N+1\n",
    "\n",
    "        if ans==\"menor\":\n",
    "            upper=guess\n",
    "            guess=random.randrange(lower,upper-1)\n",
    "            ans=input(\"O seu número é {}? sim/maior/menor\".format(guess))\n",
    "            N=N+1\n",
    "\n",
    "    print(\"{} tentativas.\".format(N))\n",
    "\n",
    "if modalidade==\"jogador\":\n",
    "        \n",
    "    num=random.randint(0,100)\n",
    "\n",
    "    guess=int(input(\"Adivinhe o número.\"))\n",
    "    N=1\n",
    "\n",
    "    while guess<num or guess>num:\n",
    "        if guess<num:\n",
    "            guess=int(input(\"O número é maior. Tente outra vez.\"))\n",
    "            N=N+1\n",
    "        if guess>num:\n",
    "            guess=int(input(\"O número é menor. Tente outra vez.\"))\n",
    "            N=N+1\n",
    "\n",
    "    print(\"{} tentativas.\".format(N))\n",
    "    "
   ]
  }
 ],
 "metadata": {
  "kernelspec": {
   "display_name": "Python 3.10.7 64-bit",
   "language": "python",
   "name": "python3"
  },
  "language_info": {
   "codemirror_mode": {
    "name": "ipython",
    "version": 3
   },
   "file_extension": ".py",
   "mimetype": "text/x-python",
   "name": "python",
   "nbconvert_exporter": "python",
   "pygments_lexer": "ipython3",
   "version": "3.10.7"
  },
  "orig_nbformat": 4,
  "vscode": {
   "interpreter": {
    "hash": "6d42733b85581a9ce5b2ca875a71e904f949a11a558e09e707b7d8e01a8525a0"
   }
  }
 },
 "nbformat": 4,
 "nbformat_minor": 2
}
